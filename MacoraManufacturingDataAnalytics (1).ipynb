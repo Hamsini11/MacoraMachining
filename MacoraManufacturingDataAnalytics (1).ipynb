{
  "nbformat": 4,
  "nbformat_minor": 0,
  "metadata": {
    "colab": {
      "provenance": [],
      "collapsed_sections": [
        "Iry14fpjyTTW",
        "WjEtgkc6yD5v",
        "LFLQn8nDkInv",
        "V24A54zhnUQW",
        "o2XJFoE8O838",
        "SwreDpW8Uatg"
      ]
    },
    "kernelspec": {
      "name": "python3",
      "display_name": "Python 3"
    },
    "language_info": {
      "name": "python"
    }
  },
  "cells": [
    {
      "cell_type": "markdown",
      "source": [
        "<h1>MACORA's Global Manufacturing Performance Analysis </h1>"
      ],
      "metadata": {
        "id": "_cC-rqp-aGCT"
      }
    },
    {
      "cell_type": "markdown",
      "source": [
        "## Analysis Overview"
      ],
      "metadata": {
        "id": "P1oZO1zfowev"
      }
    },
    {
      "cell_type": "code",
      "execution_count": 76,
      "metadata": {
        "colab": {
          "base_uri": "https://localhost:8080/",
          "height": 143
        },
        "id": "TEf6550qfG_i",
        "outputId": "c42cad4f-66de-4714-832c-b90e929aaca1"
      },
      "outputs": [
        {
          "output_type": "execute_result",
          "data": {
            "text/plain": [
              "                               deviceID deviceType           timestamp  \\\n",
              "0  19ff3161-2b3a-40a3-8604-bdc6532d0dab        CNC 2021-04-30 21:00:00   \n",
              "1  19ff3161-2b3a-40a3-8604-bdc6532d0dab        CNC 2021-04-30 21:10:00   \n",
              "2  19ff3161-2b3a-40a3-8604-bdc6532d0dab        CNC 2021-04-30 21:20:00   \n",
              "\n",
              "                                            location  \\\n",
              "0  {'country': 'japan', 'city': 'tokyo', 'area': ...   \n",
              "1  {'country': 'japan', 'city': 'tokyo', 'area': ...   \n",
              "2  {'country': 'japan', 'city': 'tokyo', 'area': ...   \n",
              "\n",
              "                                       data  \n",
              "0  {'status': 'healthy', 'temperature': 27}  \n",
              "1  {'status': 'healthy', 'temperature': 27}  \n",
              "2  {'status': 'healthy', 'temperature': 26}  "
            ],
            "text/html": [
              "\n",
              "  <div id=\"df-6fe160f4-ebf6-453b-a11a-214f656e5ba6\" class=\"colab-df-container\">\n",
              "    <div>\n",
              "<style scoped>\n",
              "    .dataframe tbody tr th:only-of-type {\n",
              "        vertical-align: middle;\n",
              "    }\n",
              "\n",
              "    .dataframe tbody tr th {\n",
              "        vertical-align: top;\n",
              "    }\n",
              "\n",
              "    .dataframe thead th {\n",
              "        text-align: right;\n",
              "    }\n",
              "</style>\n",
              "<table border=\"1\" class=\"dataframe\">\n",
              "  <thead>\n",
              "    <tr style=\"text-align: right;\">\n",
              "      <th></th>\n",
              "      <th>deviceID</th>\n",
              "      <th>deviceType</th>\n",
              "      <th>timestamp</th>\n",
              "      <th>location</th>\n",
              "      <th>data</th>\n",
              "    </tr>\n",
              "  </thead>\n",
              "  <tbody>\n",
              "    <tr>\n",
              "      <th>0</th>\n",
              "      <td>19ff3161-2b3a-40a3-8604-bdc6532d0dab</td>\n",
              "      <td>CNC</td>\n",
              "      <td>2021-04-30 21:00:00</td>\n",
              "      <td>{'country': 'japan', 'city': 'tokyo', 'area': ...</td>\n",
              "      <td>{'status': 'healthy', 'temperature': 27}</td>\n",
              "    </tr>\n",
              "    <tr>\n",
              "      <th>1</th>\n",
              "      <td>19ff3161-2b3a-40a3-8604-bdc6532d0dab</td>\n",
              "      <td>CNC</td>\n",
              "      <td>2021-04-30 21:10:00</td>\n",
              "      <td>{'country': 'japan', 'city': 'tokyo', 'area': ...</td>\n",
              "      <td>{'status': 'healthy', 'temperature': 27}</td>\n",
              "    </tr>\n",
              "    <tr>\n",
              "      <th>2</th>\n",
              "      <td>19ff3161-2b3a-40a3-8604-bdc6532d0dab</td>\n",
              "      <td>CNC</td>\n",
              "      <td>2021-04-30 21:20:00</td>\n",
              "      <td>{'country': 'japan', 'city': 'tokyo', 'area': ...</td>\n",
              "      <td>{'status': 'healthy', 'temperature': 26}</td>\n",
              "    </tr>\n",
              "  </tbody>\n",
              "</table>\n",
              "</div>\n",
              "    <div class=\"colab-df-buttons\">\n",
              "\n",
              "  <div class=\"colab-df-container\">\n",
              "    <button class=\"colab-df-convert\" onclick=\"convertToInteractive('df-6fe160f4-ebf6-453b-a11a-214f656e5ba6')\"\n",
              "            title=\"Convert this dataframe to an interactive table.\"\n",
              "            style=\"display:none;\">\n",
              "\n",
              "  <svg xmlns=\"http://www.w3.org/2000/svg\" height=\"24px\" viewBox=\"0 -960 960 960\">\n",
              "    <path d=\"M120-120v-720h720v720H120Zm60-500h600v-160H180v160Zm220 220h160v-160H400v160Zm0 220h160v-160H400v160ZM180-400h160v-160H180v160Zm440 0h160v-160H620v160ZM180-180h160v-160H180v160Zm440 0h160v-160H620v160Z\"/>\n",
              "  </svg>\n",
              "    </button>\n",
              "\n",
              "  <style>\n",
              "    .colab-df-container {\n",
              "      display:flex;\n",
              "      gap: 12px;\n",
              "    }\n",
              "\n",
              "    .colab-df-convert {\n",
              "      background-color: #E8F0FE;\n",
              "      border: none;\n",
              "      border-radius: 50%;\n",
              "      cursor: pointer;\n",
              "      display: none;\n",
              "      fill: #1967D2;\n",
              "      height: 32px;\n",
              "      padding: 0 0 0 0;\n",
              "      width: 32px;\n",
              "    }\n",
              "\n",
              "    .colab-df-convert:hover {\n",
              "      background-color: #E2EBFA;\n",
              "      box-shadow: 0px 1px 2px rgba(60, 64, 67, 0.3), 0px 1px 3px 1px rgba(60, 64, 67, 0.15);\n",
              "      fill: #174EA6;\n",
              "    }\n",
              "\n",
              "    .colab-df-buttons div {\n",
              "      margin-bottom: 4px;\n",
              "    }\n",
              "\n",
              "    [theme=dark] .colab-df-convert {\n",
              "      background-color: #3B4455;\n",
              "      fill: #D2E3FC;\n",
              "    }\n",
              "\n",
              "    [theme=dark] .colab-df-convert:hover {\n",
              "      background-color: #434B5C;\n",
              "      box-shadow: 0px 1px 3px 1px rgba(0, 0, 0, 0.15);\n",
              "      filter: drop-shadow(0px 1px 2px rgba(0, 0, 0, 0.3));\n",
              "      fill: #FFFFFF;\n",
              "    }\n",
              "  </style>\n",
              "\n",
              "    <script>\n",
              "      const buttonEl =\n",
              "        document.querySelector('#df-6fe160f4-ebf6-453b-a11a-214f656e5ba6 button.colab-df-convert');\n",
              "      buttonEl.style.display =\n",
              "        google.colab.kernel.accessAllowed ? 'block' : 'none';\n",
              "\n",
              "      async function convertToInteractive(key) {\n",
              "        const element = document.querySelector('#df-6fe160f4-ebf6-453b-a11a-214f656e5ba6');\n",
              "        const dataTable =\n",
              "          await google.colab.kernel.invokeFunction('convertToInteractive',\n",
              "                                                    [key], {});\n",
              "        if (!dataTable) return;\n",
              "\n",
              "        const docLinkHtml = 'Like what you see? Visit the ' +\n",
              "          '<a target=\"_blank\" href=https://colab.research.google.com/notebooks/data_table.ipynb>data table notebook</a>'\n",
              "          + ' to learn more about interactive tables.';\n",
              "        element.innerHTML = '';\n",
              "        dataTable['output_type'] = 'display_data';\n",
              "        await google.colab.output.renderOutput(dataTable, element);\n",
              "        const docLink = document.createElement('div');\n",
              "        docLink.innerHTML = docLinkHtml;\n",
              "        element.appendChild(docLink);\n",
              "      }\n",
              "    </script>\n",
              "  </div>\n",
              "\n",
              "\n",
              "    <div id=\"df-3c44b6c9-d4ad-4d2d-9be9-b2d9e1775240\">\n",
              "      <button class=\"colab-df-quickchart\" onclick=\"quickchart('df-3c44b6c9-d4ad-4d2d-9be9-b2d9e1775240')\"\n",
              "                title=\"Suggest charts\"\n",
              "                style=\"display:none;\">\n",
              "\n",
              "<svg xmlns=\"http://www.w3.org/2000/svg\" height=\"24px\"viewBox=\"0 0 24 24\"\n",
              "     width=\"24px\">\n",
              "    <g>\n",
              "        <path d=\"M19 3H5c-1.1 0-2 .9-2 2v14c0 1.1.9 2 2 2h14c1.1 0 2-.9 2-2V5c0-1.1-.9-2-2-2zM9 17H7v-7h2v7zm4 0h-2V7h2v10zm4 0h-2v-4h2v4z\"/>\n",
              "    </g>\n",
              "</svg>\n",
              "      </button>\n",
              "\n",
              "<style>\n",
              "  .colab-df-quickchart {\n",
              "      --bg-color: #E8F0FE;\n",
              "      --fill-color: #1967D2;\n",
              "      --hover-bg-color: #E2EBFA;\n",
              "      --hover-fill-color: #174EA6;\n",
              "      --disabled-fill-color: #AAA;\n",
              "      --disabled-bg-color: #DDD;\n",
              "  }\n",
              "\n",
              "  [theme=dark] .colab-df-quickchart {\n",
              "      --bg-color: #3B4455;\n",
              "      --fill-color: #D2E3FC;\n",
              "      --hover-bg-color: #434B5C;\n",
              "      --hover-fill-color: #FFFFFF;\n",
              "      --disabled-bg-color: #3B4455;\n",
              "      --disabled-fill-color: #666;\n",
              "  }\n",
              "\n",
              "  .colab-df-quickchart {\n",
              "    background-color: var(--bg-color);\n",
              "    border: none;\n",
              "    border-radius: 50%;\n",
              "    cursor: pointer;\n",
              "    display: none;\n",
              "    fill: var(--fill-color);\n",
              "    height: 32px;\n",
              "    padding: 0;\n",
              "    width: 32px;\n",
              "  }\n",
              "\n",
              "  .colab-df-quickchart:hover {\n",
              "    background-color: var(--hover-bg-color);\n",
              "    box-shadow: 0 1px 2px rgba(60, 64, 67, 0.3), 0 1px 3px 1px rgba(60, 64, 67, 0.15);\n",
              "    fill: var(--button-hover-fill-color);\n",
              "  }\n",
              "\n",
              "  .colab-df-quickchart-complete:disabled,\n",
              "  .colab-df-quickchart-complete:disabled:hover {\n",
              "    background-color: var(--disabled-bg-color);\n",
              "    fill: var(--disabled-fill-color);\n",
              "    box-shadow: none;\n",
              "  }\n",
              "\n",
              "  .colab-df-spinner {\n",
              "    border: 2px solid var(--fill-color);\n",
              "    border-color: transparent;\n",
              "    border-bottom-color: var(--fill-color);\n",
              "    animation:\n",
              "      spin 1s steps(1) infinite;\n",
              "  }\n",
              "\n",
              "  @keyframes spin {\n",
              "    0% {\n",
              "      border-color: transparent;\n",
              "      border-bottom-color: var(--fill-color);\n",
              "      border-left-color: var(--fill-color);\n",
              "    }\n",
              "    20% {\n",
              "      border-color: transparent;\n",
              "      border-left-color: var(--fill-color);\n",
              "      border-top-color: var(--fill-color);\n",
              "    }\n",
              "    30% {\n",
              "      border-color: transparent;\n",
              "      border-left-color: var(--fill-color);\n",
              "      border-top-color: var(--fill-color);\n",
              "      border-right-color: var(--fill-color);\n",
              "    }\n",
              "    40% {\n",
              "      border-color: transparent;\n",
              "      border-right-color: var(--fill-color);\n",
              "      border-top-color: var(--fill-color);\n",
              "    }\n",
              "    60% {\n",
              "      border-color: transparent;\n",
              "      border-right-color: var(--fill-color);\n",
              "    }\n",
              "    80% {\n",
              "      border-color: transparent;\n",
              "      border-right-color: var(--fill-color);\n",
              "      border-bottom-color: var(--fill-color);\n",
              "    }\n",
              "    90% {\n",
              "      border-color: transparent;\n",
              "      border-bottom-color: var(--fill-color);\n",
              "    }\n",
              "  }\n",
              "</style>\n",
              "\n",
              "      <script>\n",
              "        async function quickchart(key) {\n",
              "          const quickchartButtonEl =\n",
              "            document.querySelector('#' + key + ' button');\n",
              "          quickchartButtonEl.disabled = true;  // To prevent multiple clicks.\n",
              "          quickchartButtonEl.classList.add('colab-df-spinner');\n",
              "          try {\n",
              "            const charts = await google.colab.kernel.invokeFunction(\n",
              "                'suggestCharts', [key], {});\n",
              "          } catch (error) {\n",
              "            console.error('Error during call to suggestCharts:', error);\n",
              "          }\n",
              "          quickchartButtonEl.classList.remove('colab-df-spinner');\n",
              "          quickchartButtonEl.classList.add('colab-df-quickchart-complete');\n",
              "        }\n",
              "        (() => {\n",
              "          let quickchartButtonEl =\n",
              "            document.querySelector('#df-3c44b6c9-d4ad-4d2d-9be9-b2d9e1775240 button');\n",
              "          quickchartButtonEl.style.display =\n",
              "            google.colab.kernel.accessAllowed ? 'block' : 'none';\n",
              "        })();\n",
              "      </script>\n",
              "    </div>\n",
              "\n",
              "    </div>\n",
              "  </div>\n"
            ],
            "application/vnd.google.colaboratory.intrinsic+json": {
              "type": "dataframe",
              "variable_name": "daikibo_df"
            }
          },
          "metadata": {},
          "execution_count": 76
        }
      ],
      "source": [
        "import pandas as pd\n",
        "\n",
        "# Convert json data to pandas dataframe\n",
        "daikibo_df = pd.read_json(\"daikibo-telemetry-data.json\")\n",
        "daikibo_df.head(3)"
      ]
    },
    {
      "cell_type": "code",
      "source": [
        "# Check the df's dimensionality\n",
        "daikibo_df.shape"
      ],
      "metadata": {
        "colab": {
          "base_uri": "https://localhost:8080/"
        },
        "id": "WMONzEHKgvM-",
        "outputId": "a4a0a701-8ae9-4cba-cc9b-6656b31f7174"
      },
      "execution_count": 77,
      "outputs": [
        {
          "output_type": "execute_result",
          "data": {
            "text/plain": [
              "(160704, 5)"
            ]
          },
          "metadata": {},
          "execution_count": 77
        }
      ]
    },
    {
      "cell_type": "code",
      "source": [
        "# Gather column names, their datatype and non-null count\n",
        "daikibo_df.info()"
      ],
      "metadata": {
        "colab": {
          "base_uri": "https://localhost:8080/"
        },
        "id": "FbleWOuwgoBB",
        "outputId": "1da09ee4-13ff-4ede-936e-807369e3ae39"
      },
      "execution_count": 78,
      "outputs": [
        {
          "output_type": "stream",
          "name": "stdout",
          "text": [
            "<class 'pandas.core.frame.DataFrame'>\n",
            "RangeIndex: 160704 entries, 0 to 160703\n",
            "Data columns (total 5 columns):\n",
            " #   Column      Non-Null Count   Dtype         \n",
            "---  ------      --------------   -----         \n",
            " 0   deviceID    160704 non-null  object        \n",
            " 1   deviceType  160704 non-null  object        \n",
            " 2   timestamp   160704 non-null  datetime64[ns]\n",
            " 3   location    160704 non-null  object        \n",
            " 4   data        160704 non-null  object        \n",
            "dtypes: datetime64[ns](1), object(4)\n",
            "memory usage: 6.1+ MB\n"
          ]
        }
      ]
    },
    {
      "cell_type": "code",
      "source": [
        "# Identify the number of unique Device IDs\n",
        "daikibo_df['deviceID'].nunique()"
      ],
      "metadata": {
        "colab": {
          "base_uri": "https://localhost:8080/"
        },
        "id": "WyAkWgd2iH_7",
        "outputId": "1de67d31-2fbf-49d0-c860-17874b23f10b"
      },
      "execution_count": 79,
      "outputs": [
        {
          "output_type": "execute_result",
          "data": {
            "text/plain": [
              "36"
            ]
          },
          "metadata": {},
          "execution_count": 79
        }
      ]
    },
    {
      "cell_type": "code",
      "source": [
        "# Identify the number of unique Device types\n",
        "daikibo_df['deviceType'].nunique()"
      ],
      "metadata": {
        "colab": {
          "base_uri": "https://localhost:8080/"
        },
        "id": "6cyaxc1hif7T",
        "outputId": "073329f8-9e16-4417-acc1-bc67e7932f23"
      },
      "execution_count": 80,
      "outputs": [
        {
          "output_type": "execute_result",
          "data": {
            "text/plain": [
              "9"
            ]
          },
          "metadata": {},
          "execution_count": 80
        }
      ]
    },
    {
      "cell_type": "code",
      "source": [
        "# Identify the unique Device types\n",
        "daikibo_df['deviceType'].unique()"
      ],
      "metadata": {
        "colab": {
          "base_uri": "https://localhost:8080/"
        },
        "id": "9MD4_233iTu8",
        "outputId": "f5b49d78-7202-4399-c8e7-229e8d86439b"
      },
      "execution_count": 81,
      "outputs": [
        {
          "output_type": "execute_result",
          "data": {
            "text/plain": [
              "array(['CNC', 'LaserCutter', 'HeavyDutyDrill', 'SpotWelder',\n",
              "       'LaserWelder', 'MetalPress', 'Furnace', 'ConveyorBelt',\n",
              "       'AirWrench'], dtype=object)"
            ]
          },
          "metadata": {},
          "execution_count": 81
        }
      ]
    },
    {
      "cell_type": "code",
      "source": [
        "# Understand the structure of Location\n",
        "daikibo_df['location'][0]"
      ],
      "metadata": {
        "colab": {
          "base_uri": "https://localhost:8080/"
        },
        "id": "RsN0vDmWilv3",
        "outputId": "ca386653-749d-42bb-8c20-92aa1ab69853"
      },
      "execution_count": 82,
      "outputs": [
        {
          "output_type": "execute_result",
          "data": {
            "text/plain": [
              "{'country': 'japan',\n",
              " 'city': 'tokyo',\n",
              " 'area': 'keiyō-industrial-zone',\n",
              " 'factory': 'daikibo-factory-meiyo',\n",
              " 'section': 'section-1'}"
            ]
          },
          "metadata": {},
          "execution_count": 82
        }
      ]
    },
    {
      "cell_type": "code",
      "source": [
        "# Extract unique values for all location attributes\n",
        "def unique_sublocations():\n",
        "  location_keys = list(daikibo_df['location'].iloc[0].keys())\n",
        "  for key in location_keys:\n",
        "    unique_subloc = daikibo_df['location'].apply(lambda x: x[key]).unique()\n",
        "    print(f\"{key}:{unique_subloc}\\n\")\n",
        "\n",
        "unique_sublocations()"
      ],
      "metadata": {
        "colab": {
          "base_uri": "https://localhost:8080/"
        },
        "id": "bW_aNUJAgj5v",
        "outputId": "bbd34644-d779-4f76-e84a-908012076270"
      },
      "execution_count": 83,
      "outputs": [
        {
          "output_type": "stream",
          "name": "stdout",
          "text": [
            "country:['japan' 'germany' 'china']\n",
            "\n",
            "city:['tokyo' 'osaka' 'berlin' 'shenzhen']\n",
            "\n",
            "area:['keiyō-industrial-zone' 'keihanshin-industrial-zone'\n",
            " 'adlershof-technology-park' 'jiaotang']\n",
            "\n",
            "factory:['daikibo-factory-meiyo' 'daikibo-factory-seiko' 'daikibo-berlin'\n",
            " 'daikibo-shenzhen']\n",
            "\n",
            "section:['section-1' 'section-3' 'section-4' 'section-2']\n",
            "\n"
          ]
        }
      ]
    },
    {
      "cell_type": "code",
      "source": [
        "# Add analysis overview summary\n",
        "print(\"MACORA INDUSTRIES - Manufacturing Analytics\")\n",
        "print(\"=\"*43)\n",
        "print(f\"Analysis Period: {daikibo_df['timestamp'].min()} to {daikibo_df['timestamp'].max()}\")\n",
        "print(f\"Total Records: {len(daikibo_df):,}\")\n",
        "print(f\"Global Facilities: {daikibo_df['factory'].nunique()}\")\n",
        "print(f\"Equipment Types: {daikibo_df['deviceType'].nunique()}\")\n",
        "print(f\"Overall Health Rate: {(daikibo_df['status']=='healthy').mean()*100:.1f}%\")"
      ],
      "metadata": {
        "colab": {
          "base_uri": "https://localhost:8080/"
        },
        "id": "9gtDnzB5yuh6",
        "outputId": "182db58c-07fc-4ee5-ebcf-69a8c0638d22"
      },
      "execution_count": 102,
      "outputs": [
        {
          "output_type": "stream",
          "name": "stdout",
          "text": [
            "MACORA INDUSTRIES - Manufacturing Analytics\n",
            "===========================================\n",
            "Analysis Period: 2021-04-30 21:00:00 to 2021-05-09 20:50:00\n",
            "Total Records: 160,704\n",
            "Global Facilities: 4\n",
            "Equipment Types: 9\n",
            "Overall Health Rate: 99.9%\n"
          ]
        }
      ]
    },
    {
      "cell_type": "markdown",
      "source": [
        "## Identifying Issues"
      ],
      "metadata": {
        "id": "Iry14fpjyTTW"
      }
    },
    {
      "cell_type": "markdown",
      "source": [
        "Based on the above overview, I identified a few questions to answer:\n",
        "\n",
        "- What temperature range indicates healthy vs problematic operation?\n",
        "\n",
        "- Which 20% of devices cause 80% of the failures?('unhealthy' status)\n",
        "\n",
        "- Which factories outperform others and why?\n",
        "\n",
        "- Which hours show disproportionate failure rates?('unhealthy' status)\n",
        "\n",
        "- Ranking all device types from most to least reliable"
      ],
      "metadata": {
        "id": "9nRlwJKlf2Zx"
      }
    },
    {
      "cell_type": "markdown",
      "source": [
        "## Feature Engineering"
      ],
      "metadata": {
        "id": "WjEtgkc6yD5v"
      }
    },
    {
      "cell_type": "code",
      "source": [
        "# Extract key variables for analysis\n",
        "daikibo_df['hour'] = daikibo_df['timestamp'].dt.hour\n",
        "daikibo_df['factory'] = daikibo_df['location'].apply(lambda x: x['factory'])\n",
        "daikibo_df['temperature'] = daikibo_df['data'].apply(lambda x: x['temperature'])\n",
        "daikibo_df['status'] = daikibo_df['data'].apply(lambda x: x['status'])"
      ],
      "metadata": {
        "id": "eTP4WJ30f2Hf"
      },
      "execution_count": 84,
      "outputs": []
    },
    {
      "cell_type": "code",
      "source": [
        "# Verify feature engineering results\n",
        "daikibo_df.head(3)"
      ],
      "metadata": {
        "colab": {
          "base_uri": "https://localhost:8080/",
          "height": 195
        },
        "id": "Ssh-xmYpflLA",
        "outputId": "f418644e-eeb2-4d05-fb43-6ddd558dae7d"
      },
      "execution_count": 85,
      "outputs": [
        {
          "output_type": "execute_result",
          "data": {
            "text/plain": [
              "                               deviceID deviceType           timestamp  \\\n",
              "0  19ff3161-2b3a-40a3-8604-bdc6532d0dab        CNC 2021-04-30 21:00:00   \n",
              "1  19ff3161-2b3a-40a3-8604-bdc6532d0dab        CNC 2021-04-30 21:10:00   \n",
              "2  19ff3161-2b3a-40a3-8604-bdc6532d0dab        CNC 2021-04-30 21:20:00   \n",
              "\n",
              "                                            location  \\\n",
              "0  {'country': 'japan', 'city': 'tokyo', 'area': ...   \n",
              "1  {'country': 'japan', 'city': 'tokyo', 'area': ...   \n",
              "2  {'country': 'japan', 'city': 'tokyo', 'area': ...   \n",
              "\n",
              "                                       data  hour                factory  \\\n",
              "0  {'status': 'healthy', 'temperature': 27}    21  daikibo-factory-meiyo   \n",
              "1  {'status': 'healthy', 'temperature': 27}    21  daikibo-factory-meiyo   \n",
              "2  {'status': 'healthy', 'temperature': 26}    21  daikibo-factory-meiyo   \n",
              "\n",
              "   temperature   status  \n",
              "0           27  healthy  \n",
              "1           27  healthy  \n",
              "2           26  healthy  "
            ],
            "text/html": [
              "\n",
              "  <div id=\"df-19ef166b-0c6b-4fc6-ba8a-b41d2d8616c8\" class=\"colab-df-container\">\n",
              "    <div>\n",
              "<style scoped>\n",
              "    .dataframe tbody tr th:only-of-type {\n",
              "        vertical-align: middle;\n",
              "    }\n",
              "\n",
              "    .dataframe tbody tr th {\n",
              "        vertical-align: top;\n",
              "    }\n",
              "\n",
              "    .dataframe thead th {\n",
              "        text-align: right;\n",
              "    }\n",
              "</style>\n",
              "<table border=\"1\" class=\"dataframe\">\n",
              "  <thead>\n",
              "    <tr style=\"text-align: right;\">\n",
              "      <th></th>\n",
              "      <th>deviceID</th>\n",
              "      <th>deviceType</th>\n",
              "      <th>timestamp</th>\n",
              "      <th>location</th>\n",
              "      <th>data</th>\n",
              "      <th>hour</th>\n",
              "      <th>factory</th>\n",
              "      <th>temperature</th>\n",
              "      <th>status</th>\n",
              "    </tr>\n",
              "  </thead>\n",
              "  <tbody>\n",
              "    <tr>\n",
              "      <th>0</th>\n",
              "      <td>19ff3161-2b3a-40a3-8604-bdc6532d0dab</td>\n",
              "      <td>CNC</td>\n",
              "      <td>2021-04-30 21:00:00</td>\n",
              "      <td>{'country': 'japan', 'city': 'tokyo', 'area': ...</td>\n",
              "      <td>{'status': 'healthy', 'temperature': 27}</td>\n",
              "      <td>21</td>\n",
              "      <td>daikibo-factory-meiyo</td>\n",
              "      <td>27</td>\n",
              "      <td>healthy</td>\n",
              "    </tr>\n",
              "    <tr>\n",
              "      <th>1</th>\n",
              "      <td>19ff3161-2b3a-40a3-8604-bdc6532d0dab</td>\n",
              "      <td>CNC</td>\n",
              "      <td>2021-04-30 21:10:00</td>\n",
              "      <td>{'country': 'japan', 'city': 'tokyo', 'area': ...</td>\n",
              "      <td>{'status': 'healthy', 'temperature': 27}</td>\n",
              "      <td>21</td>\n",
              "      <td>daikibo-factory-meiyo</td>\n",
              "      <td>27</td>\n",
              "      <td>healthy</td>\n",
              "    </tr>\n",
              "    <tr>\n",
              "      <th>2</th>\n",
              "      <td>19ff3161-2b3a-40a3-8604-bdc6532d0dab</td>\n",
              "      <td>CNC</td>\n",
              "      <td>2021-04-30 21:20:00</td>\n",
              "      <td>{'country': 'japan', 'city': 'tokyo', 'area': ...</td>\n",
              "      <td>{'status': 'healthy', 'temperature': 26}</td>\n",
              "      <td>21</td>\n",
              "      <td>daikibo-factory-meiyo</td>\n",
              "      <td>26</td>\n",
              "      <td>healthy</td>\n",
              "    </tr>\n",
              "  </tbody>\n",
              "</table>\n",
              "</div>\n",
              "    <div class=\"colab-df-buttons\">\n",
              "\n",
              "  <div class=\"colab-df-container\">\n",
              "    <button class=\"colab-df-convert\" onclick=\"convertToInteractive('df-19ef166b-0c6b-4fc6-ba8a-b41d2d8616c8')\"\n",
              "            title=\"Convert this dataframe to an interactive table.\"\n",
              "            style=\"display:none;\">\n",
              "\n",
              "  <svg xmlns=\"http://www.w3.org/2000/svg\" height=\"24px\" viewBox=\"0 -960 960 960\">\n",
              "    <path d=\"M120-120v-720h720v720H120Zm60-500h600v-160H180v160Zm220 220h160v-160H400v160Zm0 220h160v-160H400v160ZM180-400h160v-160H180v160Zm440 0h160v-160H620v160ZM180-180h160v-160H180v160Zm440 0h160v-160H620v160Z\"/>\n",
              "  </svg>\n",
              "    </button>\n",
              "\n",
              "  <style>\n",
              "    .colab-df-container {\n",
              "      display:flex;\n",
              "      gap: 12px;\n",
              "    }\n",
              "\n",
              "    .colab-df-convert {\n",
              "      background-color: #E8F0FE;\n",
              "      border: none;\n",
              "      border-radius: 50%;\n",
              "      cursor: pointer;\n",
              "      display: none;\n",
              "      fill: #1967D2;\n",
              "      height: 32px;\n",
              "      padding: 0 0 0 0;\n",
              "      width: 32px;\n",
              "    }\n",
              "\n",
              "    .colab-df-convert:hover {\n",
              "      background-color: #E2EBFA;\n",
              "      box-shadow: 0px 1px 2px rgba(60, 64, 67, 0.3), 0px 1px 3px 1px rgba(60, 64, 67, 0.15);\n",
              "      fill: #174EA6;\n",
              "    }\n",
              "\n",
              "    .colab-df-buttons div {\n",
              "      margin-bottom: 4px;\n",
              "    }\n",
              "\n",
              "    [theme=dark] .colab-df-convert {\n",
              "      background-color: #3B4455;\n",
              "      fill: #D2E3FC;\n",
              "    }\n",
              "\n",
              "    [theme=dark] .colab-df-convert:hover {\n",
              "      background-color: #434B5C;\n",
              "      box-shadow: 0px 1px 3px 1px rgba(0, 0, 0, 0.15);\n",
              "      filter: drop-shadow(0px 1px 2px rgba(0, 0, 0, 0.3));\n",
              "      fill: #FFFFFF;\n",
              "    }\n",
              "  </style>\n",
              "\n",
              "    <script>\n",
              "      const buttonEl =\n",
              "        document.querySelector('#df-19ef166b-0c6b-4fc6-ba8a-b41d2d8616c8 button.colab-df-convert');\n",
              "      buttonEl.style.display =\n",
              "        google.colab.kernel.accessAllowed ? 'block' : 'none';\n",
              "\n",
              "      async function convertToInteractive(key) {\n",
              "        const element = document.querySelector('#df-19ef166b-0c6b-4fc6-ba8a-b41d2d8616c8');\n",
              "        const dataTable =\n",
              "          await google.colab.kernel.invokeFunction('convertToInteractive',\n",
              "                                                    [key], {});\n",
              "        if (!dataTable) return;\n",
              "\n",
              "        const docLinkHtml = 'Like what you see? Visit the ' +\n",
              "          '<a target=\"_blank\" href=https://colab.research.google.com/notebooks/data_table.ipynb>data table notebook</a>'\n",
              "          + ' to learn more about interactive tables.';\n",
              "        element.innerHTML = '';\n",
              "        dataTable['output_type'] = 'display_data';\n",
              "        await google.colab.output.renderOutput(dataTable, element);\n",
              "        const docLink = document.createElement('div');\n",
              "        docLink.innerHTML = docLinkHtml;\n",
              "        element.appendChild(docLink);\n",
              "      }\n",
              "    </script>\n",
              "  </div>\n",
              "\n",
              "\n",
              "    <div id=\"df-0657154e-1bf7-448b-91d9-283121287bac\">\n",
              "      <button class=\"colab-df-quickchart\" onclick=\"quickchart('df-0657154e-1bf7-448b-91d9-283121287bac')\"\n",
              "                title=\"Suggest charts\"\n",
              "                style=\"display:none;\">\n",
              "\n",
              "<svg xmlns=\"http://www.w3.org/2000/svg\" height=\"24px\"viewBox=\"0 0 24 24\"\n",
              "     width=\"24px\">\n",
              "    <g>\n",
              "        <path d=\"M19 3H5c-1.1 0-2 .9-2 2v14c0 1.1.9 2 2 2h14c1.1 0 2-.9 2-2V5c0-1.1-.9-2-2-2zM9 17H7v-7h2v7zm4 0h-2V7h2v10zm4 0h-2v-4h2v4z\"/>\n",
              "    </g>\n",
              "</svg>\n",
              "      </button>\n",
              "\n",
              "<style>\n",
              "  .colab-df-quickchart {\n",
              "      --bg-color: #E8F0FE;\n",
              "      --fill-color: #1967D2;\n",
              "      --hover-bg-color: #E2EBFA;\n",
              "      --hover-fill-color: #174EA6;\n",
              "      --disabled-fill-color: #AAA;\n",
              "      --disabled-bg-color: #DDD;\n",
              "  }\n",
              "\n",
              "  [theme=dark] .colab-df-quickchart {\n",
              "      --bg-color: #3B4455;\n",
              "      --fill-color: #D2E3FC;\n",
              "      --hover-bg-color: #434B5C;\n",
              "      --hover-fill-color: #FFFFFF;\n",
              "      --disabled-bg-color: #3B4455;\n",
              "      --disabled-fill-color: #666;\n",
              "  }\n",
              "\n",
              "  .colab-df-quickchart {\n",
              "    background-color: var(--bg-color);\n",
              "    border: none;\n",
              "    border-radius: 50%;\n",
              "    cursor: pointer;\n",
              "    display: none;\n",
              "    fill: var(--fill-color);\n",
              "    height: 32px;\n",
              "    padding: 0;\n",
              "    width: 32px;\n",
              "  }\n",
              "\n",
              "  .colab-df-quickchart:hover {\n",
              "    background-color: var(--hover-bg-color);\n",
              "    box-shadow: 0 1px 2px rgba(60, 64, 67, 0.3), 0 1px 3px 1px rgba(60, 64, 67, 0.15);\n",
              "    fill: var(--button-hover-fill-color);\n",
              "  }\n",
              "\n",
              "  .colab-df-quickchart-complete:disabled,\n",
              "  .colab-df-quickchart-complete:disabled:hover {\n",
              "    background-color: var(--disabled-bg-color);\n",
              "    fill: var(--disabled-fill-color);\n",
              "    box-shadow: none;\n",
              "  }\n",
              "\n",
              "  .colab-df-spinner {\n",
              "    border: 2px solid var(--fill-color);\n",
              "    border-color: transparent;\n",
              "    border-bottom-color: var(--fill-color);\n",
              "    animation:\n",
              "      spin 1s steps(1) infinite;\n",
              "  }\n",
              "\n",
              "  @keyframes spin {\n",
              "    0% {\n",
              "      border-color: transparent;\n",
              "      border-bottom-color: var(--fill-color);\n",
              "      border-left-color: var(--fill-color);\n",
              "    }\n",
              "    20% {\n",
              "      border-color: transparent;\n",
              "      border-left-color: var(--fill-color);\n",
              "      border-top-color: var(--fill-color);\n",
              "    }\n",
              "    30% {\n",
              "      border-color: transparent;\n",
              "      border-left-color: var(--fill-color);\n",
              "      border-top-color: var(--fill-color);\n",
              "      border-right-color: var(--fill-color);\n",
              "    }\n",
              "    40% {\n",
              "      border-color: transparent;\n",
              "      border-right-color: var(--fill-color);\n",
              "      border-top-color: var(--fill-color);\n",
              "    }\n",
              "    60% {\n",
              "      border-color: transparent;\n",
              "      border-right-color: var(--fill-color);\n",
              "    }\n",
              "    80% {\n",
              "      border-color: transparent;\n",
              "      border-right-color: var(--fill-color);\n",
              "      border-bottom-color: var(--fill-color);\n",
              "    }\n",
              "    90% {\n",
              "      border-color: transparent;\n",
              "      border-bottom-color: var(--fill-color);\n",
              "    }\n",
              "  }\n",
              "</style>\n",
              "\n",
              "      <script>\n",
              "        async function quickchart(key) {\n",
              "          const quickchartButtonEl =\n",
              "            document.querySelector('#' + key + ' button');\n",
              "          quickchartButtonEl.disabled = true;  // To prevent multiple clicks.\n",
              "          quickchartButtonEl.classList.add('colab-df-spinner');\n",
              "          try {\n",
              "            const charts = await google.colab.kernel.invokeFunction(\n",
              "                'suggestCharts', [key], {});\n",
              "          } catch (error) {\n",
              "            console.error('Error during call to suggestCharts:', error);\n",
              "          }\n",
              "          quickchartButtonEl.classList.remove('colab-df-spinner');\n",
              "          quickchartButtonEl.classList.add('colab-df-quickchart-complete');\n",
              "        }\n",
              "        (() => {\n",
              "          let quickchartButtonEl =\n",
              "            document.querySelector('#df-0657154e-1bf7-448b-91d9-283121287bac button');\n",
              "          quickchartButtonEl.style.display =\n",
              "            google.colab.kernel.accessAllowed ? 'block' : 'none';\n",
              "        })();\n",
              "      </script>\n",
              "    </div>\n",
              "\n",
              "    </div>\n",
              "  </div>\n"
            ],
            "application/vnd.google.colaboratory.intrinsic+json": {
              "type": "dataframe",
              "variable_name": "daikibo_df"
            }
          },
          "metadata": {},
          "execution_count": 85
        }
      ]
    },
    {
      "cell_type": "markdown",
      "source": [
        "## 1. What temperature range indicates healthy vs problematic operation?"
      ],
      "metadata": {
        "id": "LFLQn8nDkInv"
      }
    },
    {
      "cell_type": "code",
      "source": [
        "# Fetch temperature's average by status\n",
        "temp_by_status = daikibo_df.groupby('status')['temperature'].mean()\n",
        "print(temp_by_status)"
      ],
      "metadata": {
        "colab": {
          "base_uri": "https://localhost:8080/"
        },
        "id": "eyx3Ts-tjYvn",
        "outputId": "55be7ed7-f046-4805-cd7c-2e85dc780d5c"
      },
      "execution_count": 86,
      "outputs": [
        {
          "output_type": "stream",
          "name": "stdout",
          "text": [
            "status\n",
            "healthy      24.989981\n",
            "unhealthy    24.883495\n",
            "Name: temperature, dtype: float64\n"
          ]
        }
      ]
    },
    {
      "cell_type": "markdown",
      "source": [
        "Mean stays consistant despite the status.\n",
        "Let's identify the range of temperature by status, to find out the correlation between the both"
      ],
      "metadata": {
        "id": "5j9iDlJ3tCbg"
      }
    },
    {
      "cell_type": "code",
      "source": [
        "# Fetch min and max temperature by status\n",
        "temp_ranges = daikibo_df.groupby('status')['temperature'].agg(['min', 'max'])\n",
        "print(temp_ranges)"
      ],
      "metadata": {
        "colab": {
          "base_uri": "https://localhost:8080/"
        },
        "id": "f10u-VFZj9ab",
        "outputId": "26f25a27-69f6-4a14-8f78-d26fdb237305"
      },
      "execution_count": 87,
      "outputs": [
        {
          "output_type": "stream",
          "name": "stdout",
          "text": [
            "           min  max\n",
            "status             \n",
            "healthy     23   27\n",
            "unhealthy   23   27\n"
          ]
        }
      ]
    },
    {
      "cell_type": "markdown",
      "source": [
        "**Conclusion:** Temperature is not correlated with machine failures"
      ],
      "metadata": {
        "id": "QdlYjjNymeu2"
      }
    },
    {
      "cell_type": "markdown",
      "source": [
        "## 2. Which 20% of devices cause 80% of the failures?"
      ],
      "metadata": {
        "id": "V24A54zhnUQW"
      }
    },
    {
      "cell_type": "code",
      "source": [
        "# Identify the devices reported 'unhealthy' by deviceType(in %)\n",
        "device_failures = daikibo_df.groupby('deviceType')['status'].apply(lambda x: (x == 'unhealthy').mean() * 100)\n",
        "print(device_failures)"
      ],
      "metadata": {
        "colab": {
          "base_uri": "https://localhost:8080/"
        },
        "id": "l8gNO4XuoLFF",
        "outputId": "e84f0aad-56be-43aa-bcca-922470a9dabf"
      },
      "execution_count": 88,
      "outputs": [
        {
          "output_type": "stream",
          "name": "stdout",
          "text": [
            "deviceType\n",
            "AirWrench         0.000000\n",
            "CNC               0.005600\n",
            "ConveyorBelt      0.005600\n",
            "Furnace           0.011201\n",
            "HeavyDutyDrill    0.039203\n",
            "LaserCutter       0.240815\n",
            "LaserWelder       0.268817\n",
            "MetalPress        0.000000\n",
            "SpotWelder        0.005600\n",
            "Name: status, dtype: float64\n"
          ]
        }
      ]
    },
    {
      "cell_type": "code",
      "source": [
        "# Sort the devices reported 'unhealthy' in descending order\n",
        "device_failures_sorted = device_failures.sort_values(ascending=False)\n",
        "\n",
        "# Calculate the total devices reported 'unhealthy'\n",
        "total_failure_rate = device_failures.sum()\n",
        "\n",
        "# Create executive summary\n",
        "top_2 = device_failures_sorted.head(2)\n",
        "top_2_contribution = (top_2.sum() / total_failure_rate * 100)\n",
        "\n",
        "print(f\"\\n📊 EXECUTIVE SUMMARY:\")\n",
        "print(f\"• {list(top_2.index)} = {top_2_contribution:.1f}% of all failures\")\n",
        "print(f\"• These 2 device types (out of {len(device_failures)}) represent {2/len(device_failures)*100:.0f}% of equipment\")\n",
        "print(f\"• Classic 80/20 rule: {2/len(device_failures)*100:.0f}% of device types cause {top_2_contribution:.0f}% of problems\")\n",
        "print(f\"• Focus maintenance resources on Laser equipment for maximum impact\")"
      ],
      "metadata": {
        "colab": {
          "base_uri": "https://localhost:8080/"
        },
        "id": "DgeuejOwoiZ-",
        "outputId": "ea5570d9-e776-414e-d491-ae593a67c6dc"
      },
      "execution_count": 89,
      "outputs": [
        {
          "output_type": "stream",
          "name": "stdout",
          "text": [
            "\n",
            "📊 EXECUTIVE SUMMARY:\n",
            "• ['LaserWelder', 'LaserCutter'] = 88.3% of all failures\n",
            "• These 2 device types (out of 9) represent 22% of equipment\n",
            "• Classic 80/20 rule: 22% of device types cause 88% of problems\n",
            "• Focus maintenance resources on Laser equipment for maximum impact\n"
          ]
        }
      ]
    },
    {
      "cell_type": "markdown",
      "source": [
        "## 3. Which factories outperform others and why?"
      ],
      "metadata": {
        "id": "o2XJFoE8O838"
      }
    },
    {
      "cell_type": "code",
      "source": [
        "# Sort the devices reported 'unhealthy' in ascending order to identify the factory with best performance\n",
        "daikibo_df.groupby(daikibo_df['factory'])['status'].apply(lambda x: (x == 'unhealthy').sum()).sort_values()"
      ],
      "metadata": {
        "colab": {
          "base_uri": "https://localhost:8080/",
          "height": 241
        },
        "id": "E5PtfBIlM7sQ",
        "outputId": "c707eb60-fdbd-43f3-ed73-dc5334978aaf"
      },
      "execution_count": 90,
      "outputs": [
        {
          "output_type": "execute_result",
          "data": {
            "text/plain": [
              "factory\n",
              "daikibo-berlin            2\n",
              "daikibo-factory-meiyo    11\n",
              "daikibo-shenzhen         42\n",
              "daikibo-factory-seiko    48\n",
              "Name: status, dtype: int64"
            ],
            "text/html": [
              "<div>\n",
              "<style scoped>\n",
              "    .dataframe tbody tr th:only-of-type {\n",
              "        vertical-align: middle;\n",
              "    }\n",
              "\n",
              "    .dataframe tbody tr th {\n",
              "        vertical-align: top;\n",
              "    }\n",
              "\n",
              "    .dataframe thead th {\n",
              "        text-align: right;\n",
              "    }\n",
              "</style>\n",
              "<table border=\"1\" class=\"dataframe\">\n",
              "  <thead>\n",
              "    <tr style=\"text-align: right;\">\n",
              "      <th></th>\n",
              "      <th>status</th>\n",
              "    </tr>\n",
              "    <tr>\n",
              "      <th>factory</th>\n",
              "      <th></th>\n",
              "    </tr>\n",
              "  </thead>\n",
              "  <tbody>\n",
              "    <tr>\n",
              "      <th>daikibo-berlin</th>\n",
              "      <td>2</td>\n",
              "    </tr>\n",
              "    <tr>\n",
              "      <th>daikibo-factory-meiyo</th>\n",
              "      <td>11</td>\n",
              "    </tr>\n",
              "    <tr>\n",
              "      <th>daikibo-shenzhen</th>\n",
              "      <td>42</td>\n",
              "    </tr>\n",
              "    <tr>\n",
              "      <th>daikibo-factory-seiko</th>\n",
              "      <td>48</td>\n",
              "    </tr>\n",
              "  </tbody>\n",
              "</table>\n",
              "</div><br><label><b>dtype:</b> int64</label>"
            ]
          },
          "metadata": {},
          "execution_count": 90
        }
      ]
    },
    {
      "cell_type": "markdown",
      "source": [
        "**Conclusion:** Berlin factory demonstrates best operational performance."
      ],
      "metadata": {
        "id": "A_GVT4eWUF6J"
      }
    },
    {
      "cell_type": "markdown",
      "source": [
        "## 4. Which hours show disproportionate failure rates?"
      ],
      "metadata": {
        "id": "SwreDpW8Uatg"
      }
    },
    {
      "cell_type": "code",
      "source": [
        "# Identify top 3 hours of the day, when device was reported 'unhealthy'\n",
        "daikibo_df.groupby(daikibo_df['hour'])['status'].apply(lambda x: (x == 'unhealthy').sum()).sort_values(ascending=False).head(3)"
      ],
      "metadata": {
        "colab": {
          "base_uri": "https://localhost:8080/",
          "height": 209
        },
        "id": "qJBdKhnlQcnE",
        "outputId": "282c8b45-c27c-4d2c-9052-22c784b54b75"
      },
      "execution_count": 91,
      "outputs": [
        {
          "output_type": "execute_result",
          "data": {
            "text/plain": [
              "hour\n",
              "7     12\n",
              "10     9\n",
              "8      8\n",
              "Name: status, dtype: int64"
            ],
            "text/html": [
              "<div>\n",
              "<style scoped>\n",
              "    .dataframe tbody tr th:only-of-type {\n",
              "        vertical-align: middle;\n",
              "    }\n",
              "\n",
              "    .dataframe tbody tr th {\n",
              "        vertical-align: top;\n",
              "    }\n",
              "\n",
              "    .dataframe thead th {\n",
              "        text-align: right;\n",
              "    }\n",
              "</style>\n",
              "<table border=\"1\" class=\"dataframe\">\n",
              "  <thead>\n",
              "    <tr style=\"text-align: right;\">\n",
              "      <th></th>\n",
              "      <th>status</th>\n",
              "    </tr>\n",
              "    <tr>\n",
              "      <th>hour</th>\n",
              "      <th></th>\n",
              "    </tr>\n",
              "  </thead>\n",
              "  <tbody>\n",
              "    <tr>\n",
              "      <th>7</th>\n",
              "      <td>12</td>\n",
              "    </tr>\n",
              "    <tr>\n",
              "      <th>10</th>\n",
              "      <td>9</td>\n",
              "    </tr>\n",
              "    <tr>\n",
              "      <th>8</th>\n",
              "      <td>8</td>\n",
              "    </tr>\n",
              "  </tbody>\n",
              "</table>\n",
              "</div><br><label><b>dtype:</b> int64</label>"
            ]
          },
          "metadata": {},
          "execution_count": 91
        }
      ]
    },
    {
      "cell_type": "markdown",
      "source": [
        "**Conclusion:** Could indicate one or more of the below:\n",
        "\n",
        "- Cold start issues after overnight shutdown\n",
        "\n",
        "- Morning shift operational problems\n",
        "\n",
        "- Equipment stress during daily startup procedures\n",
        "\n",
        "- Possible maintenance scheduling opportunities"
      ],
      "metadata": {
        "id": "dBKAcVq6XQKW"
      }
    },
    {
      "cell_type": "markdown",
      "source": [
        "## 5. Ranking all device types from most to least reliable"
      ],
      "metadata": {
        "id": "mu9e0w6pXmyu"
      }
    },
    {
      "cell_type": "code",
      "source": [
        "# Sort the deviceType in descending order when their status showed 'healthy' --> using SUM\n",
        "daikibo_df.groupby(daikibo_df['deviceType'])['status'].apply(lambda x: (x == 'healthy').sum()).sort_values(ascending=False)"
      ],
      "metadata": {
        "colab": {
          "base_uri": "https://localhost:8080/",
          "height": 397
        },
        "id": "-TZOkZsgVIzp",
        "outputId": "094d4e70-98c4-4634-b312-649aeeb8801c"
      },
      "execution_count": 92,
      "outputs": [
        {
          "output_type": "execute_result",
          "data": {
            "text/plain": [
              "deviceType\n",
              "AirWrench         17856\n",
              "MetalPress        17856\n",
              "CNC               17855\n",
              "SpotWelder        17855\n",
              "ConveyorBelt      17855\n",
              "Furnace           17854\n",
              "HeavyDutyDrill    17849\n",
              "LaserCutter       17813\n",
              "LaserWelder       17808\n",
              "Name: status, dtype: int64"
            ],
            "text/html": [
              "<div>\n",
              "<style scoped>\n",
              "    .dataframe tbody tr th:only-of-type {\n",
              "        vertical-align: middle;\n",
              "    }\n",
              "\n",
              "    .dataframe tbody tr th {\n",
              "        vertical-align: top;\n",
              "    }\n",
              "\n",
              "    .dataframe thead th {\n",
              "        text-align: right;\n",
              "    }\n",
              "</style>\n",
              "<table border=\"1\" class=\"dataframe\">\n",
              "  <thead>\n",
              "    <tr style=\"text-align: right;\">\n",
              "      <th></th>\n",
              "      <th>status</th>\n",
              "    </tr>\n",
              "    <tr>\n",
              "      <th>deviceType</th>\n",
              "      <th></th>\n",
              "    </tr>\n",
              "  </thead>\n",
              "  <tbody>\n",
              "    <tr>\n",
              "      <th>AirWrench</th>\n",
              "      <td>17856</td>\n",
              "    </tr>\n",
              "    <tr>\n",
              "      <th>MetalPress</th>\n",
              "      <td>17856</td>\n",
              "    </tr>\n",
              "    <tr>\n",
              "      <th>CNC</th>\n",
              "      <td>17855</td>\n",
              "    </tr>\n",
              "    <tr>\n",
              "      <th>SpotWelder</th>\n",
              "      <td>17855</td>\n",
              "    </tr>\n",
              "    <tr>\n",
              "      <th>ConveyorBelt</th>\n",
              "      <td>17855</td>\n",
              "    </tr>\n",
              "    <tr>\n",
              "      <th>Furnace</th>\n",
              "      <td>17854</td>\n",
              "    </tr>\n",
              "    <tr>\n",
              "      <th>HeavyDutyDrill</th>\n",
              "      <td>17849</td>\n",
              "    </tr>\n",
              "    <tr>\n",
              "      <th>LaserCutter</th>\n",
              "      <td>17813</td>\n",
              "    </tr>\n",
              "    <tr>\n",
              "      <th>LaserWelder</th>\n",
              "      <td>17808</td>\n",
              "    </tr>\n",
              "  </tbody>\n",
              "</table>\n",
              "</div><br><label><b>dtype:</b> int64</label>"
            ]
          },
          "metadata": {},
          "execution_count": 92
        }
      ]
    },
    {
      "cell_type": "code",
      "source": [
        "# Rechecking if each deviceType contains same number of records --> using COUNT\n",
        "daikibo_df.groupby(daikibo_df['deviceType'])['status'].apply(lambda x: (x == 'healthy').count()).sort_values(ascending=False)"
      ],
      "metadata": {
        "colab": {
          "base_uri": "https://localhost:8080/",
          "height": 397
        },
        "id": "AvbIb2IJYB5Y",
        "outputId": "6c2f15fe-2a6b-4116-866a-77ee53228536"
      },
      "execution_count": 93,
      "outputs": [
        {
          "output_type": "execute_result",
          "data": {
            "text/plain": [
              "deviceType\n",
              "AirWrench         17856\n",
              "CNC               17856\n",
              "ConveyorBelt      17856\n",
              "Furnace           17856\n",
              "HeavyDutyDrill    17856\n",
              "LaserCutter       17856\n",
              "LaserWelder       17856\n",
              "MetalPress        17856\n",
              "SpotWelder        17856\n",
              "Name: status, dtype: int64"
            ],
            "text/html": [
              "<div>\n",
              "<style scoped>\n",
              "    .dataframe tbody tr th:only-of-type {\n",
              "        vertical-align: middle;\n",
              "    }\n",
              "\n",
              "    .dataframe tbody tr th {\n",
              "        vertical-align: top;\n",
              "    }\n",
              "\n",
              "    .dataframe thead th {\n",
              "        text-align: right;\n",
              "    }\n",
              "</style>\n",
              "<table border=\"1\" class=\"dataframe\">\n",
              "  <thead>\n",
              "    <tr style=\"text-align: right;\">\n",
              "      <th></th>\n",
              "      <th>status</th>\n",
              "    </tr>\n",
              "    <tr>\n",
              "      <th>deviceType</th>\n",
              "      <th></th>\n",
              "    </tr>\n",
              "  </thead>\n",
              "  <tbody>\n",
              "    <tr>\n",
              "      <th>AirWrench</th>\n",
              "      <td>17856</td>\n",
              "    </tr>\n",
              "    <tr>\n",
              "      <th>CNC</th>\n",
              "      <td>17856</td>\n",
              "    </tr>\n",
              "    <tr>\n",
              "      <th>ConveyorBelt</th>\n",
              "      <td>17856</td>\n",
              "    </tr>\n",
              "    <tr>\n",
              "      <th>Furnace</th>\n",
              "      <td>17856</td>\n",
              "    </tr>\n",
              "    <tr>\n",
              "      <th>HeavyDutyDrill</th>\n",
              "      <td>17856</td>\n",
              "    </tr>\n",
              "    <tr>\n",
              "      <th>LaserCutter</th>\n",
              "      <td>17856</td>\n",
              "    </tr>\n",
              "    <tr>\n",
              "      <th>LaserWelder</th>\n",
              "      <td>17856</td>\n",
              "    </tr>\n",
              "    <tr>\n",
              "      <th>MetalPress</th>\n",
              "      <td>17856</td>\n",
              "    </tr>\n",
              "    <tr>\n",
              "      <th>SpotWelder</th>\n",
              "      <td>17856</td>\n",
              "    </tr>\n",
              "  </tbody>\n",
              "</table>\n",
              "</div><br><label><b>dtype:</b> int64</label>"
            ]
          },
          "metadata": {},
          "execution_count": 93
        }
      ]
    },
    {
      "cell_type": "markdown",
      "source": [
        "**Conclusion:** AirWrench and MetalPress are the most reliable equipment (zero or minimal failures)"
      ],
      "metadata": {
        "id": "ufQgugm_Zzhu"
      }
    },
    {
      "cell_type": "markdown",
      "source": [
        "##  Overall Executive Summary"
      ],
      "metadata": {
        "id": "O-5JjRDvzu9A"
      }
    },
    {
      "cell_type": "code",
      "source": [
        "print(\"=\"*38)\n",
        "print(\"MACORA INDUSTRIES - EXECUTIVE SUMMARY\")\n",
        "print(\"=\"*38)\n",
        "print()\n",
        "\n",
        "# Analysis Overview\n",
        "print(\"ANALYSIS SCOPE:\")\n",
        "print(f\"- Data Period: {daikibo_df['timestamp'].min().strftime('%B %d')} - {daikibo_df['timestamp'].max().strftime('%B %d, %Y')}\")\n",
        "print(f\"- Total Records: {len(daikibo_df):,}\")\n",
        "print(f\"- Global Facilities: {daikibo_df['factory'].nunique()}\")\n",
        "print(f\"- Equipment Types: {daikibo_df['deviceType'].nunique()}\")\n",
        "print(f\"- Overall Equipment Health Rate: {(daikibo_df['status']=='healthy').mean()*100:.1f}%\")\n",
        "print()\n",
        "\n",
        "# Key Findings Summary\n",
        "print(\"KEY FINDINGS & RECOMMENDATIONS:\")\n",
        "print()\n",
        "\n",
        "# 1: Temperature Analysis\n",
        "print(\"1. TEMPERATURE IS NOT A FAILURE PREDICTOR\")\n",
        "temp_healthy = daikibo_df[daikibo_df['status']=='healthy']['temperature'].mean()\n",
        "temp_unhealthy = daikibo_df[daikibo_df['status']=='unhealthy']['temperature'].mean()\n",
        "print(f\"- Healthy equipment avg: {temp_healthy:.1f}°C\")\n",
        "print(f\"- Unhealthy equipment avg: {temp_unhealthy:.1f}°C\")\n",
        "print(\"- Recommendation: Focus maintenance resources on other factors\")\n",
        "print()\n",
        "\n",
        "# 2: 80/20 Analysis\n",
        "top_2_devices = device_failures_sorted.head(2)\n",
        "top_2_contribution = (top_2_devices.sum() / device_failures.sum() * 100)\n",
        "print(\"2. LASER EQUIPMENT DRIVES MAJORITY OF FAILURES\")\n",
        "print(f\"- LaserWelder & LaserCutter: {top_2_contribution:.0f}% of all failures\")\n",
        "print(f\"- Classic 80/20 principle confirmed\")\n",
        "print(\"- Recommendation: Prioritize laser equipment maintenance programs\")\n",
        "print()\n",
        "\n",
        "# 3: Geographic Performance\n",
        "best_factory = daikibo_df.groupby('factory')['status'].apply(lambda x: (x=='unhealthy').sum()).sort_values().index[0]\n",
        "worst_factory = daikibo_df.groupby('factory')['status'].apply(lambda x: (x=='unhealthy').sum()).sort_values().index[-1]\n",
        "best_failures = daikibo_df.groupby('factory')['status'].apply(lambda x: (x=='unhealthy').sum()).min()\n",
        "worst_failures = daikibo_df.groupby('factory')['status'].apply(lambda x: (x=='unhealthy').sum()).max()\n",
        "\n",
        "print(\"3. SIGNIFICANT GEOGRAPHIC PERFORMANCE GAPS\")\n",
        "print(f\"- Best performing: {best_factory} ({best_failures} failures)\")\n",
        "print(f\"- Worst performing: {worst_factory} ({worst_failures} failures)\")\n",
        "print(f\"- Performance gap: {worst_failures/best_failures:.0f}x difference\")\n",
        "print(\"- Recommendation: Transfer Berlin best practices to other facilities\")\n",
        "print()\n",
        "\n",
        "# 4: Temporal Patterns\n",
        "peak_hour = daikibo_df.groupby('hour')['status'].apply(lambda x: (x=='unhealthy').sum()).sort_values(ascending=False).index[0]\n",
        "peak_failures = daikibo_df.groupby('hour')['status'].apply(lambda x: (x=='unhealthy').sum()).max()\n",
        "print(\"4. MORNING STARTUP VULNERABILITY IDENTIFIED\")\n",
        "print(f\"- Peak failure time: {peak_hour}:00 AM ({peak_failures} failures)\")\n",
        "print(\"- Pattern suggests cold-start operational issues\")\n",
        "print(\"- Recommendation: Implement enhanced morning startup procedures\")\n",
        "print()\n",
        "\n",
        "# 5: Equipment Reliability\n",
        "most_reliable = daikibo_df.groupby('deviceType')['status'].apply(lambda x: (x=='healthy').sum()).sort_values(ascending=False).index[0]\n",
        "least_reliable = daikibo_df.groupby('deviceType')['status'].apply(lambda x: (x=='healthy').sum()).sort_values(ascending=False).index[-1]\n",
        "print(\"5. EQUIPMENT RELIABILITY HIERARCHY ESTABLISHED\")\n",
        "print(f\"- Most reliable: {most_reliable}\")\n",
        "print(f\"- Least reliable: {least_reliable}\")\n",
        "print(\"- Recommendation: Consider equipment replacement/upgrade priorities\")\n",
        "print()\n",
        "\n",
        "# Business Impact\n",
        "print(\"BUSINESS IMPACT:\")\n",
        "total_failures = (daikibo_df['status']=='unhealthy').sum()\n",
        "failure_rate = (daikibo_df['status']=='unhealthy').mean() * 100\n",
        "print(f\"- Current failure rate: {failure_rate:.2f}%\")\n",
        "print(f\"- Total failure events analyzed: {total_failures}\")\n",
        "print(\"- Identified specific improvement opportunities across operations\")\n",
        "print()\n",
        "\n",
        "print(\"=\"*70)"
      ],
      "metadata": {
        "colab": {
          "base_uri": "https://localhost:8080/"
        },
        "id": "Ny0YY0zjzzrL",
        "outputId": "5b9e46a1-54d6-4d9a-8c50-2383e9650f31"
      },
      "execution_count": 101,
      "outputs": [
        {
          "output_type": "stream",
          "name": "stdout",
          "text": [
            "======================================\n",
            "MACORA INDUSTRIES - EXECUTIVE SUMMARY\n",
            "======================================\n",
            "\n",
            "ANALYSIS SCOPE:\n",
            "• Data Period: April 30 - May 09, 2021\n",
            "• Total Records: 160,704\n",
            "• Global Facilities: 4\n",
            "• Equipment Types: 9\n",
            "• Overall Equipment Health Rate: 99.9%\n",
            "\n",
            "KEY FINDINGS & RECOMMENDATIONS:\n",
            "\n",
            "1. TEMPERATURE IS NOT A FAILURE PREDICTOR\n",
            "- Healthy equipment avg: 25.0°C\n",
            "- Unhealthy equipment avg: 24.9°C\n",
            "- Recommendation: Focus maintenance resources on other factors\n",
            "\n",
            "2. LASER EQUIPMENT DRIVES MAJORITY OF FAILURES\n",
            "- LaserWelder & LaserCutter: 88% of all failures\n",
            "- Classic 80/20 principle confirmed\n",
            "- Recommendation: Prioritize laser equipment maintenance programs\n",
            "\n",
            "3. SIGNIFICANT GEOGRAPHIC PERFORMANCE GAPS\n",
            "- Best performing: daikibo-berlin (2 failures)\n",
            "- Worst performing: daikibo-factory-seiko (48 failures)\n",
            "- Performance gap: 24x difference\n",
            "- Recommendation: Transfer Berlin best practices to other facilities\n",
            "\n",
            "4. MORNING STARTUP VULNERABILITY IDENTIFIED\n",
            "- Peak failure time: 7:00 AM (12 failures)\n",
            "- Pattern suggests cold-start operational issues\n",
            "- Recommendation: Implement enhanced morning startup procedures\n",
            "\n",
            "5. EQUIPMENT RELIABILITY HIERARCHY ESTABLISHED\n",
            "- Most reliable: AirWrench\n",
            "- Least reliable: LaserWelder\n",
            "- Recommendation: Consider equipment replacement/upgrade priorities\n",
            "\n",
            "BUSINESS IMPACT:\n",
            "- Current failure rate: 0.06%\n",
            "- Total failure events analyzed: 103\n",
            "- Identified specific improvement opportunities across operations\n",
            "\n",
            "======================================================================\n"
          ]
        }
      ]
    },
    {
      "cell_type": "code",
      "source": [],
      "metadata": {
        "id": "IkO2J-BJ1FKU"
      },
      "execution_count": null,
      "outputs": []
    }
  ]
}